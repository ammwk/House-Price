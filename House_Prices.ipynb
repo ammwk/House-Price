{
 "cells": [
  {
   "cell_type": "code",
   "execution_count": 68,
   "metadata": {},
   "outputs": [
    {
     "data": {
      "text/plain": [
       "'C:\\\\Kaggle\\\\House Prices'"
      ]
     },
     "execution_count": 68,
     "metadata": {},
     "output_type": "execute_result"
    }
   ],
   "source": [
    "import os\n",
    "import pandas as pd\n",
    "import numpy as np\n",
    "\n",
    "os.chdir('C:\\Kaggle\\House Prices')\n",
    "currentDirectory = os.getcwd()\n",
    "currentDirectory"
   ]
  },
  {
   "cell_type": "code",
   "execution_count": 126,
   "metadata": {},
   "outputs": [
    {
     "name": "stdout",
     "output_type": "stream",
     "text": [
      "(2919, 80)\n"
     ]
    },
    {
     "data": {
      "text/html": [
       "<div>\n",
       "<style scoped>\n",
       "    .dataframe tbody tr th:only-of-type {\n",
       "        vertical-align: middle;\n",
       "    }\n",
       "\n",
       "    .dataframe tbody tr th {\n",
       "        vertical-align: top;\n",
       "    }\n",
       "\n",
       "    .dataframe thead th {\n",
       "        text-align: right;\n",
       "    }\n",
       "</style>\n",
       "<table border=\"1\" class=\"dataframe\">\n",
       "  <thead>\n",
       "    <tr style=\"text-align: right;\">\n",
       "      <th></th>\n",
       "      <th>Id</th>\n",
       "      <th>MSSubClass</th>\n",
       "      <th>MSZoning</th>\n",
       "      <th>LotFrontage</th>\n",
       "      <th>LotArea</th>\n",
       "      <th>Street</th>\n",
       "      <th>Alley</th>\n",
       "      <th>LotShape</th>\n",
       "      <th>LandContour</th>\n",
       "      <th>Utilities</th>\n",
       "      <th>...</th>\n",
       "      <th>ScreenPorch</th>\n",
       "      <th>PoolArea</th>\n",
       "      <th>PoolQC</th>\n",
       "      <th>Fence</th>\n",
       "      <th>MiscFeature</th>\n",
       "      <th>MiscVal</th>\n",
       "      <th>MoSold</th>\n",
       "      <th>YrSold</th>\n",
       "      <th>SaleType</th>\n",
       "      <th>SaleCondition</th>\n",
       "    </tr>\n",
       "  </thead>\n",
       "  <tbody>\n",
       "    <tr>\n",
       "      <td>0</td>\n",
       "      <td>1</td>\n",
       "      <td>60</td>\n",
       "      <td>RL</td>\n",
       "      <td>65.0</td>\n",
       "      <td>8450</td>\n",
       "      <td>Pave</td>\n",
       "      <td>NaN</td>\n",
       "      <td>Reg</td>\n",
       "      <td>Lvl</td>\n",
       "      <td>AllPub</td>\n",
       "      <td>...</td>\n",
       "      <td>0</td>\n",
       "      <td>0</td>\n",
       "      <td>NaN</td>\n",
       "      <td>NaN</td>\n",
       "      <td>NaN</td>\n",
       "      <td>0</td>\n",
       "      <td>2</td>\n",
       "      <td>2008</td>\n",
       "      <td>WD</td>\n",
       "      <td>Normal</td>\n",
       "    </tr>\n",
       "    <tr>\n",
       "      <td>1</td>\n",
       "      <td>2</td>\n",
       "      <td>20</td>\n",
       "      <td>RL</td>\n",
       "      <td>80.0</td>\n",
       "      <td>9600</td>\n",
       "      <td>Pave</td>\n",
       "      <td>NaN</td>\n",
       "      <td>Reg</td>\n",
       "      <td>Lvl</td>\n",
       "      <td>AllPub</td>\n",
       "      <td>...</td>\n",
       "      <td>0</td>\n",
       "      <td>0</td>\n",
       "      <td>NaN</td>\n",
       "      <td>NaN</td>\n",
       "      <td>NaN</td>\n",
       "      <td>0</td>\n",
       "      <td>5</td>\n",
       "      <td>2007</td>\n",
       "      <td>WD</td>\n",
       "      <td>Normal</td>\n",
       "    </tr>\n",
       "    <tr>\n",
       "      <td>2</td>\n",
       "      <td>3</td>\n",
       "      <td>60</td>\n",
       "      <td>RL</td>\n",
       "      <td>68.0</td>\n",
       "      <td>11250</td>\n",
       "      <td>Pave</td>\n",
       "      <td>NaN</td>\n",
       "      <td>IR1</td>\n",
       "      <td>Lvl</td>\n",
       "      <td>AllPub</td>\n",
       "      <td>...</td>\n",
       "      <td>0</td>\n",
       "      <td>0</td>\n",
       "      <td>NaN</td>\n",
       "      <td>NaN</td>\n",
       "      <td>NaN</td>\n",
       "      <td>0</td>\n",
       "      <td>9</td>\n",
       "      <td>2008</td>\n",
       "      <td>WD</td>\n",
       "      <td>Normal</td>\n",
       "    </tr>\n",
       "    <tr>\n",
       "      <td>3</td>\n",
       "      <td>4</td>\n",
       "      <td>70</td>\n",
       "      <td>RL</td>\n",
       "      <td>60.0</td>\n",
       "      <td>9550</td>\n",
       "      <td>Pave</td>\n",
       "      <td>NaN</td>\n",
       "      <td>IR1</td>\n",
       "      <td>Lvl</td>\n",
       "      <td>AllPub</td>\n",
       "      <td>...</td>\n",
       "      <td>0</td>\n",
       "      <td>0</td>\n",
       "      <td>NaN</td>\n",
       "      <td>NaN</td>\n",
       "      <td>NaN</td>\n",
       "      <td>0</td>\n",
       "      <td>2</td>\n",
       "      <td>2006</td>\n",
       "      <td>WD</td>\n",
       "      <td>Abnorml</td>\n",
       "    </tr>\n",
       "    <tr>\n",
       "      <td>4</td>\n",
       "      <td>5</td>\n",
       "      <td>60</td>\n",
       "      <td>RL</td>\n",
       "      <td>84.0</td>\n",
       "      <td>14260</td>\n",
       "      <td>Pave</td>\n",
       "      <td>NaN</td>\n",
       "      <td>IR1</td>\n",
       "      <td>Lvl</td>\n",
       "      <td>AllPub</td>\n",
       "      <td>...</td>\n",
       "      <td>0</td>\n",
       "      <td>0</td>\n",
       "      <td>NaN</td>\n",
       "      <td>NaN</td>\n",
       "      <td>NaN</td>\n",
       "      <td>0</td>\n",
       "      <td>12</td>\n",
       "      <td>2008</td>\n",
       "      <td>WD</td>\n",
       "      <td>Normal</td>\n",
       "    </tr>\n",
       "  </tbody>\n",
       "</table>\n",
       "<p>5 rows × 80 columns</p>\n",
       "</div>"
      ],
      "text/plain": [
       "   Id  MSSubClass MSZoning  LotFrontage  LotArea Street Alley LotShape  \\\n",
       "0   1          60       RL         65.0     8450   Pave   NaN      Reg   \n",
       "1   2          20       RL         80.0     9600   Pave   NaN      Reg   \n",
       "2   3          60       RL         68.0    11250   Pave   NaN      IR1   \n",
       "3   4          70       RL         60.0     9550   Pave   NaN      IR1   \n",
       "4   5          60       RL         84.0    14260   Pave   NaN      IR1   \n",
       "\n",
       "  LandContour Utilities  ... ScreenPorch PoolArea PoolQC Fence MiscFeature  \\\n",
       "0         Lvl    AllPub  ...           0        0    NaN   NaN         NaN   \n",
       "1         Lvl    AllPub  ...           0        0    NaN   NaN         NaN   \n",
       "2         Lvl    AllPub  ...           0        0    NaN   NaN         NaN   \n",
       "3         Lvl    AllPub  ...           0        0    NaN   NaN         NaN   \n",
       "4         Lvl    AllPub  ...           0        0    NaN   NaN         NaN   \n",
       "\n",
       "  MiscVal MoSold  YrSold  SaleType  SaleCondition  \n",
       "0       0      2    2008        WD         Normal  \n",
       "1       0      5    2007        WD         Normal  \n",
       "2       0      9    2008        WD         Normal  \n",
       "3       0      2    2006        WD        Abnorml  \n",
       "4       0     12    2008        WD         Normal  \n",
       "\n",
       "[5 rows x 80 columns]"
      ]
     },
     "execution_count": 126,
     "metadata": {},
     "output_type": "execute_result"
    }
   ],
   "source": [
    "\n",
    "\n",
    "train_original=pd.read_csv('train.csv') # Importing Data\n",
    "train=pd.read_csv('train.csv') # Importing Data to be modified\n",
    "testing=pd.read_csv('test.csv') \n",
    "y=train.loc[:,'SalePrice']\n",
    "train=train.drop('SalePrice',axis=1)\n",
    "train=pd.concat([train, testing], sort=False,ignore_index=True)\n",
    "\n",
    "print(train.shape) #Getting data info\n",
    "\n",
    "#MSSubClass,MSZoning,Street are a categories\n",
    "#LotFrontage has missing data (float)\n",
    "\n",
    "train.head()"
   ]
  },
  {
   "cell_type": "code",
   "execution_count": 127,
   "metadata": {},
   "outputs": [
    {
     "data": {
      "text/plain": [
       "MSSubClass       0\n",
       "MSZoning         0\n",
       "Street           0\n",
       "Alley            0\n",
       "LotShape         0\n",
       "LandContour      0\n",
       "Utilities        0\n",
       "LotConfig        0\n",
       "LandSlope        0\n",
       "Neighborhood     0\n",
       "Condition1       0\n",
       "Condition2       0\n",
       "BldgType         0\n",
       "HouseStyle       0\n",
       "OverallQual      0\n",
       "OverallCond      0\n",
       "RoofStyle        0\n",
       "RoofMatl         0\n",
       "Exterior1st      0\n",
       "Exterior2nd      0\n",
       "MasVnrType       0\n",
       "ExterQual        0\n",
       "ExterCond        0\n",
       "Foundation       0\n",
       "BsmtQual         0\n",
       "BsmtCond         0\n",
       "BsmtExposure     0\n",
       "BsmtFinType1     0\n",
       "BsmtFinType2     0\n",
       "Heating          0\n",
       "HeatingQC        0\n",
       "CentralAir       0\n",
       "Electrical       0\n",
       "KitchenQual      0\n",
       "Functional       0\n",
       "FireplaceQu      0\n",
       "GarageType       0\n",
       "GarageFinish     0\n",
       "GarageQual       0\n",
       "GarageCond       0\n",
       "PavedDrive       0\n",
       "PoolQC           0\n",
       "Fence            0\n",
       "MiscFeature      0\n",
       "SaleType         0\n",
       "SaleCondition    0\n",
       "dtype: int64"
      ]
     },
     "execution_count": 127,
     "metadata": {},
     "output_type": "execute_result"
    }
   ],
   "source": [
    "#Modifying the dataset to capture categories\n",
    "\n",
    "\n",
    "Columns_cat=['MSSubClass','MSZoning','Street','Alley','LotShape','LandContour','Utilities','LotConfig',\n",
    "            'LandSlope','Neighborhood','Condition1','Condition2','BldgType','HouseStyle','OverallQual',\n",
    "            'OverallCond','RoofStyle','RoofMatl','Exterior1st','Exterior2nd','MasVnrType','ExterQual'\n",
    "            ,'ExterCond','Foundation','BsmtQual','BsmtCond','BsmtExposure','BsmtFinType1',\n",
    "            'BsmtFinType2','Heating','HeatingQC','CentralAir','Electrical','KitchenQual',\n",
    "            'Functional','FireplaceQu','GarageType','GarageFinish','GarageQual','GarageCond',\n",
    "            'PavedDrive','PoolQC','Fence','MiscFeature','SaleType','SaleCondition']\n",
    "## Look at MoSold YrSold\n",
    "#Understanding data missing\n",
    "train[Columns_cat].isna().sum()\n",
    "train[Columns_cat]=train[Columns_cat].fillna(\"No\")\n",
    "\n",
    "train[Columns_cat].isna().sum()\n"
   ]
  },
  {
   "cell_type": "code",
   "execution_count": 128,
   "metadata": {},
   "outputs": [
    {
     "name": "stdout",
     "output_type": "stream",
     "text": [
      "['LotFrontage', 'MasVnrArea', 'BsmtFinSF1', 'BsmtFinSF2', 'BsmtUnfSF', 'TotalBsmtSF', 'BsmtFullBath', 'BsmtHalfBath', 'GarageYrBlt', 'GarageCars', 'GarageArea']\n",
      "[]\n"
     ]
    }
   ],
   "source": [
    "#Changing type to category\n",
    "train[Columns_cat]=train[Columns_cat].astype('category')\n",
    "\n",
    "#columns with NA()\n",
    "print(train.columns[train.isna().any()].tolist())\n",
    "train.fillna(train.median(),inplace=True)\n",
    "print(train.columns[train.isna().any()].tolist())"
   ]
  },
  {
   "cell_type": "code",
   "execution_count": 129,
   "metadata": {},
   "outputs": [],
   "source": [
    "## Combining Month and year\n",
    "#train['Date_sold']=pd.to_datetime(train['YrSold']\n",
    "                         #  +train['MoSold'])\n"
   ]
  },
  {
   "cell_type": "code",
   "execution_count": 130,
   "metadata": {},
   "outputs": [],
   "source": [
    "#train=train.drop(['YrSold','MoSold'],axis=1)\n",
    "#train.dtypes"
   ]
  },
  {
   "cell_type": "code",
   "execution_count": 131,
   "metadata": {},
   "outputs": [],
   "source": [
    "#Confirming there are no NA Values\n",
    "train.isna().sum().sum()\n",
    "\n",
    "#Changing order of colums to make saleprice last column\n",
    "cols = train.columns.tolist()\n"
   ]
  },
  {
   "cell_type": "code",
   "execution_count": 132,
   "metadata": {},
   "outputs": [
    {
     "data": {
      "text/plain": [
       "(2919, 309)"
      ]
     },
     "execution_count": 132,
     "metadata": {},
     "output_type": "execute_result"
    }
   ],
   "source": [
    "#ONEHOTENCODER USER for categorical variables\n",
    "from sklearn.preprocessing import OneHotEncoder\n",
    "ohe =OneHotEncoder(sparse=False)\n",
    "one_enc_cat=ohe.fit_transform(train[Columns_cat])\n",
    "one_enc_cat.shape"
   ]
  },
  {
   "cell_type": "code",
   "execution_count": 133,
   "metadata": {},
   "outputs": [],
   "source": [
    "#Using LabelEncoder then OneHotEncoder to change Categorical variables into ints\n",
    "\n",
    "#from sklearn.preprocessing import LabelEncoder\n",
    "\n",
    "#labelencoder = LabelEncoder()\n",
    "\n",
    "#ohe = OneHotEncoder(categorical_features=categorical_mask,sparse=False)\n",
    "#for col in Columns_cat:\n",
    " #   train[col] = labelencoder.fit_transform(train[col] )\n"
   ]
  },
  {
   "cell_type": "code",
   "execution_count": 134,
   "metadata": {},
   "outputs": [
    {
     "name": "stdout",
     "output_type": "stream",
     "text": [
      "(2919, 34)\n",
      "(2919, 80)\n",
      "   Id  LotFrontage  LotArea  YearBuilt  YearRemodAdd  MasVnrArea  BsmtFinSF1  \\\n",
      "0   1         65.0     8450       2003          2003       196.0       706.0   \n",
      "1   2         80.0     9600       1976          1976         0.0       978.0   \n",
      "2   3         68.0    11250       2001          2002       162.0       486.0   \n",
      "3   4         60.0     9550       1915          1970         0.0       216.0   \n",
      "4   5         84.0    14260       2000          2000       350.0       655.0   \n",
      "\n",
      "   BsmtFinSF2  BsmtUnfSF  TotalBsmtSF  ...  299  300  301  302  303  304  305  \\\n",
      "0         0.0      150.0        856.0  ...  0.0  0.0  0.0  1.0  0.0  0.0  0.0   \n",
      "1         0.0      284.0       1262.0  ...  0.0  0.0  0.0  1.0  0.0  0.0  0.0   \n",
      "2         0.0      434.0        920.0  ...  0.0  0.0  0.0  1.0  0.0  0.0  0.0   \n",
      "3         0.0      540.0        756.0  ...  0.0  0.0  0.0  1.0  1.0  0.0  0.0   \n",
      "4         0.0      490.0       1145.0  ...  0.0  0.0  0.0  1.0  0.0  0.0  0.0   \n",
      "\n",
      "   306  307  308  \n",
      "0  0.0  1.0  0.0  \n",
      "1  0.0  1.0  0.0  \n",
      "2  0.0  1.0  0.0  \n",
      "3  0.0  0.0  0.0  \n",
      "4  0.0  1.0  0.0  \n",
      "\n",
      "[5 rows x 343 columns]\n",
      "(2919, 343)\n"
     ]
    }
   ],
   "source": [
    "## Combine training data with OnehotEncoder\n",
    "train_final=train\n",
    "train_final=train_final.drop(Columns_cat,axis=1)\n",
    "print(train_final.shape)\n",
    "print(train.shape)\n",
    "one_enc_df=pd.DataFrame(one_enc_cat)\n",
    "\n",
    "train_final = pd.concat([train_final, one_enc_df], axis=1, sort=False)\n",
    "print(train_final.head())\n",
    "print(train_final.shape)\n"
   ]
  },
  {
   "cell_type": "code",
   "execution_count": 143,
   "metadata": {},
   "outputs": [
    {
     "data": {
      "text/plain": [
       "(1460, 343)"
      ]
     },
     "execution_count": 143,
     "metadata": {},
     "output_type": "execute_result"
    }
   ],
   "source": [
    "## Using XGB\n",
    "import xgboost as xgb\n",
    "#identify X be careful of column order\n",
    "X=train_final.loc[0:1459,:]\n",
    "X.shape"
   ]
  },
  {
   "cell_type": "code",
   "execution_count": 144,
   "metadata": {},
   "outputs": [],
   "source": [
    "#Create Function to adjust testing data\n",
    "def fix(data,train):\n",
    "    Columns_cat=['MSSubClass','MSZoning','Street','Alley','LotShape','LandContour','Utilities','LotConfig',\n",
    "            'LandSlope','Neighborhood','Condition1','Condition2','BldgType','HouseStyle','OverallQual',\n",
    "            'OverallCond','RoofStyle','RoofMatl','Exterior1st','Exterior2nd','MasVnrType','ExterQual'\n",
    "            ,'ExterCond','Foundation','BsmtQual','BsmtCond','BsmtExposure','BsmtFinType1',\n",
    "            'BsmtFinType2','Heating','HeatingQC','CentralAir','Electrical','KitchenQual',\n",
    "            'Functional','FireplaceQu','GarageType','GarageFinish','GarageQual','GarageCond',\n",
    "            'PavedDrive','PoolQC','Fence','MiscFeature','SaleType','SaleCondition']\n",
    "    data[Columns_cat]=data[Columns_cat].fillna(\"No\")\n",
    "    data[Columns_cat]=data[Columns_cat].astype('category')\n",
    "    data['LotFrontage'].fillna(med_LotFrontage, inplace=True)\n",
    "    data['MasVnrArea'].fillna(med_MasVnrArea, inplace=True)\n",
    "    ohe =OneHotEncoder(sparse=False)\n",
    "    one_enc_cat=ohe.fit_transform(train[Columns_cat])\n",
    "    one_enc_cat_data=ohe.transform(data[Columns_cat])\n",
    "    data=data.drop(Columns_cat,axis=1)\n",
    "    one_enc_df_data=pd.DataFrame(one_enc_cat_data)\n",
    "    test_final = pd.concat([data, one_enc_df_data], axis=1, sort=False)\n",
    "    return  test_final\n",
    "    "
   ]
  },
  {
   "cell_type": "code",
   "execution_count": 164,
   "metadata": {},
   "outputs": [
    {
     "name": "stdout",
     "output_type": "stream",
     "text": [
      "Fitting 4 folds for each of 320 candidates, totalling 1280 fits\n"
     ]
    },
    {
     "name": "stderr",
     "output_type": "stream",
     "text": [
      "[Parallel(n_jobs=1)]: Using backend SequentialBackend with 1 concurrent workers.\n",
      "[Parallel(n_jobs=1)]: Done 1280 out of 1280 | elapsed: 53.9min finished\n"
     ]
    }
   ],
   "source": [
    "from sklearn.model_selection import GridSearchCV\n",
    "gbm=xgb.XGBRegressor()\n",
    "\n",
    "gbm_param_grid = {\n",
    "    'colsample_bytree': [0.1,0.3, 0.7,1],\n",
    "    'n_estimators': [5,50,100,500,1000],\n",
    "    'max_depth': [2, 5,10,30],\n",
    "    'learning_rate': [0.001,0.01,0.1,1]\n",
    "}\n",
    "\n",
    "grid_mse = GridSearchCV(param_grid=gbm_param_grid,estimator=gbm,scoring='neg_mean_squared_error',cv=4,verbose=1)\n",
    "grid_mse.fit(X,y)\n",
    "X_test=train_final.loc[1459:,:]\n"
   ]
  },
  {
   "cell_type": "code",
   "execution_count": 165,
   "metadata": {},
   "outputs": [
    {
     "data": {
      "text/plain": [
       "array([148959.53 , 116501.055, 157131.75 , ..., 163032.48 , 122974.72 ,\n",
       "       222459.   ], dtype=float32)"
      ]
     },
     "execution_count": 165,
     "metadata": {},
     "output_type": "execute_result"
    }
   ],
   "source": [
    "y_pred=grid_mse.predict(X_test)\n",
    "y_pred"
   ]
  },
  {
   "cell_type": "code",
   "execution_count": 166,
   "metadata": {},
   "outputs": [],
   "source": [
    "Prediction=pd.DataFrame(testing['Id'])\n",
    "\n",
    "Prediction['SalePrice']=pd.DataFrame(y_pred)\n",
    "Prediction.to_csv('Prediction.csv',index=False)"
   ]
  },
  {
   "cell_type": "code",
   "execution_count": 172,
   "metadata": {},
   "outputs": [
    {
     "name": "stdout",
     "output_type": "stream",
     "text": [
      "[16:42:00] WARNING: C:/Users/Administrator/workspace/xgboost-win64_release_1.2.0/src/objective/regression_obj.cu:174: reg:linear is now deprecated in favor of reg:squarederror.\n",
      "[16:42:00] WARNING: C:/Users/Administrator/workspace/xgboost-win64_release_1.2.0/src/objective/regression_obj.cu:174: reg:linear is now deprecated in favor of reg:squarederror.\n"
     ]
    },
    {
     "data": {
      "text/plain": [
       "array([138551.72, 124664.93, 142461.33, ..., 152680.83, 110083.66,\n",
       "       256160.31], dtype=float32)"
      ]
     },
     "execution_count": 172,
     "metadata": {},
     "output_type": "execute_result"
    }
   ],
   "source": [
    "gbm=xgb.XGBRegressor(seed=123,objective='reg:linear',booster='gbtree',n_estimators=10)\n",
    "gbm.fit(X,y)\n",
    "gbm.predict(X_test)"
   ]
  },
  {
   "cell_type": "code",
   "execution_count": 173,
   "metadata": {},
   "outputs": [],
   "source": [
    "Prediction=pd.DataFrame(testing['Id'])\n",
    "\n",
    "Prediction['SalePrice']=pd.DataFrame(y_pred)\n",
    "Prediction.to_csv('Prediction.csv',index=False)"
   ]
  },
  {
   "cell_type": "code",
   "execution_count": null,
   "metadata": {},
   "outputs": [],
   "source": []
  }
 ],
 "metadata": {
  "kernelspec": {
   "display_name": "Python 3",
   "language": "python",
   "name": "python3"
  },
  "language_info": {
   "codemirror_mode": {
    "name": "ipython",
    "version": 3
   },
   "file_extension": ".py",
   "mimetype": "text/x-python",
   "name": "python",
   "nbconvert_exporter": "python",
   "pygments_lexer": "ipython3",
   "version": "3.7.4"
  }
 },
 "nbformat": 4,
 "nbformat_minor": 2
}
